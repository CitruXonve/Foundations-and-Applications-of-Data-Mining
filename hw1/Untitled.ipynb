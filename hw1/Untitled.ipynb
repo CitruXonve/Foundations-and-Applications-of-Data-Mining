{
 "cells": [
  {
   "cell_type": "code",
   "execution_count": 1,
   "metadata": {},
   "outputs": [
    {
     "name": "stdout",
     "output_type": "stream",
     "text": [
      "+--------------------+\n",
      "|       facility_name|\n",
      "+--------------------+\n",
      "| HABITAT COFFEE SHOP|\n",
      "|            REILLY'S|\n",
      "|      STREET CHURROS|\n",
      "|   TRINITI ECHO PARK|\n",
      "|              POLLEN|\n",
      "|      THE SPOT GRILL|\n",
      "|    7 ELEVEN #37215A|\n",
      "|                 CPK|\n",
      "|            PHO LALA|\n",
      "|          ABC DONUTS|\n",
      "|            UPSTAIRS|\n",
      "|       EL POLLO LOCO|\n",
      "|   POONG NYUN BAKERY|\n",
      "|EMC RESTAURANT GR...|\n",
      "|      POPULAR DONUTS|\n",
      "|   CUSCATLECA BAKERY|\n",
      "|FOOD COURT TRAY W...|\n",
      "|          HMS BOUNTY|\n",
      "|     7 ELEVEN #27069|\n",
      "|      AN'S CHAN BANG|\n",
      "+--------------------+\n",
      "only showing top 20 rows\n",
      "\n",
      "root\n",
      " |-- serial_number: string (nullable = true)\n",
      " |-- activity_date: string (nullable = true)\n",
      " |-- facility_name: string (nullable = true)\n",
      " |-- score: string (nullable = true)\n",
      " |-- grade: string (nullable = true)\n",
      " |-- service_code: string (nullable = true)\n",
      " |-- service_description: string (nullable = true)\n",
      " |-- employee_id: string (nullable = true)\n",
      " |-- facility_address: string (nullable = true)\n",
      " |-- facility_city: string (nullable = true)\n",
      " |-- facility_id: string (nullable = true)\n",
      " |-- facility_state: string (nullable = true)\n",
      " |-- facility_zip: string (nullable = true)\n",
      " |-- owner_id: string (nullable = true)\n",
      " |-- owner_name: string (nullable = true)\n",
      " |-- pe_description: string (nullable = true)\n",
      " |-- program_element_pe: string (nullable = true)\n",
      " |-- program_name: string (nullable = true)\n",
      " |-- program_status: string (nullable = true)\n",
      " |-- record_id: string (nullable = true)\n",
      "\n"
     ]
    }
   ],
   "source": [
    "from pyspark.sql import SparkSession\n",
    "\n",
    "spark = SparkSession \\\n",
    "    .builder \\\n",
    "    .appName(\"Python Spark SQL basic example\") \\\n",
    "    .getOrCreate()\n",
    "    #.config(\"spark.some.config.option\", \"some-value\") \\\n",
    "\n",
    "# spark is an existing SparkSession\n",
    "df_inspection = spark.read.csv(\"./la-restaurant-market-health-data/restaurant-and-market-health-inspections.csv\", \n",
    "                               header=True)\n",
    "# Displays the content of the DataFrame to stdout\n",
    "# df_inspection.show()\n",
    "df_inspection.select('facility_name').show()\n",
    "df_inspection.printSchema()"
   ]
  },
  {
   "cell_type": "code",
   "execution_count": 2,
   "metadata": {},
   "outputs": [
    {
     "name": "stdout",
     "output_type": "stream",
     "text": [
      "+-------------+--------------------+--------------------+--------------+---------------------+-----------------+------+-----+-------------------+-------------+-----------+--------------+------------+-----------+---------+-------------------+--------------------+------------------+--------------------+--------------+---------+-----+------------+-------------------+-------------+\n",
      "|serial_number|       activity_date|       facility_name|violation_code|violation_description| violation_status|points|grade|   facility_address|facility_city|facility_id|facility_state|facility_zip|employee_id| owner_id|         owner_name|      pe_description|program_element_pe|        program_name|program_status|record_id|score|service_code|service_description|       row_id|\n",
      "+-------------+--------------------+--------------------+--------------+---------------------+-----------------+------+-----+-------------------+-------------+-----------+--------------+------------+-----------+---------+-------------------+--------------------+------------------+--------------------+--------------+---------+-----+------------+-------------------+-------------+\n",
      "|    DA08R0TCU|2018-03-30T00:00:...|         KRUANG TEDD|          F030| # 30. Food proper...|OUT OF COMPLIANCE|     1|    A|5151 HOLLYWOOD BLVD|  LOS ANGELES|  FA0064949|            CA|       90027|  EE0000857|OW0001034| 5151 HOLLYWOOD LLC|RESTAURANT (31-60...|              1635|         KRUANG TEDD|        ACTIVE|PR0031205|   92|           1| ROUTINE INSPECTION|DA08R0TCUF030|\n",
      "|    DA08R0TCU|2018-03-30T00:00:...|         KRUANG TEDD|          F027| # 27. Food separa...|OUT OF COMPLIANCE|     1|    A|5151 HOLLYWOOD BLVD|  LOS ANGELES|  FA0064949|            CA|       90027|  EE0000857|OW0001034| 5151 HOLLYWOOD LLC|RESTAURANT (31-60...|              1635|         KRUANG TEDD|        ACTIVE|PR0031205|   92|           1| ROUTINE INSPECTION|DA08R0TCUF027|\n",
      "|    DA08R0TCU|2018-03-30T00:00:...|         KRUANG TEDD|          F035| # 35. Equipment/U...|OUT OF COMPLIANCE|     1|    A|5151 HOLLYWOOD BLVD|  LOS ANGELES|  FA0064949|            CA|       90027|  EE0000857|OW0001034| 5151 HOLLYWOOD LLC|RESTAURANT (31-60...|              1635|         KRUANG TEDD|        ACTIVE|PR0031205|   92|           1| ROUTINE INSPECTION|DA08R0TCUF035|\n",
      "|    DA08R0TCU|2018-03-30T00:00:...|         KRUANG TEDD|          F033| # 33. Nonfood-con...|OUT OF COMPLIANCE|     1|    A|5151 HOLLYWOOD BLVD|  LOS ANGELES|  FA0064949|            CA|       90027|  EE0000857|OW0001034| 5151 HOLLYWOOD LLC|RESTAURANT (31-60...|              1635|         KRUANG TEDD|        ACTIVE|PR0031205|   92|           1| ROUTINE INSPECTION|DA08R0TCUF033|\n",
      "|    DA08R0TCU|2018-03-30T00:00:...|         KRUANG TEDD|          F029| # 29. Toxic subst...|OUT OF COMPLIANCE|     1|    A|5151 HOLLYWOOD BLVD|  LOS ANGELES|  FA0064949|            CA|       90027|  EE0000857|OW0001034| 5151 HOLLYWOOD LLC|RESTAURANT (31-60...|              1635|         KRUANG TEDD|        ACTIVE|PR0031205|   92|           1| ROUTINE INSPECTION|DA08R0TCUF029|\n",
      "|    DA08R0TCU|2018-03-30T00:00:...|         KRUANG TEDD|          F044| # 44. Floors, wal...|OUT OF COMPLIANCE|     1|    A|5151 HOLLYWOOD BLVD|  LOS ANGELES|  FA0064949|            CA|       90027|  EE0000857|OW0001034| 5151 HOLLYWOOD LLC|RESTAURANT (31-60...|              1635|         KRUANG TEDD|        ACTIVE|PR0031205|   92|           1| ROUTINE INSPECTION|DA08R0TCUF044|\n",
      "|    DA08R0TCU|2018-03-30T00:00:...|         KRUANG TEDD|          F006| # 06. Adequate ha...|OUT OF COMPLIANCE|     2|    A|5151 HOLLYWOOD BLVD|  LOS ANGELES|  FA0064949|            CA|       90027|  EE0000857|OW0001034| 5151 HOLLYWOOD LLC|RESTAURANT (31-60...|              1635|         KRUANG TEDD|        ACTIVE|PR0031205|   92|           1| ROUTINE INSPECTION|DA08R0TCUF006|\n",
      "|    DA0GBKW3F|2018-03-30T00:00:...|SPROUTS FARMERS M...|          F044| # 44. Floors, wal...|OUT OF COMPLIANCE|     1|    A|   2245 YOSEMITE DR|  LOS ANGELES|  FA0224114|            CA|  90041-2618|  EE0000162|OW0033830|      SPROUTS, INC.|FOOD MKT RETAIL (...|              1612|         MEAT MARKET|        ACTIVE|PR0179289|   97|           1| ROUTINE INSPECTION|DA0GBKW3FF044|\n",
      "|    DA0GBKW3F|2018-03-30T00:00:...|SPROUTS FARMERS M...|          F039| # 39. Wiping clot...|OUT OF COMPLIANCE|     1|    A|   2245 YOSEMITE DR|  LOS ANGELES|  FA0224114|            CA|  90041-2618|  EE0000162|OW0033830|      SPROUTS, INC.|FOOD MKT RETAIL (...|              1612|         MEAT MARKET|        ACTIVE|PR0179289|   97|           1| ROUTINE INSPECTION|DA0GBKW3FF039|\n",
      "|    DA0GBKW3F|2018-03-30T00:00:...|SPROUTS FARMERS M...|          F037| # 37. Adequate ve...|OUT OF COMPLIANCE|     1|    A|   2245 YOSEMITE DR|  LOS ANGELES|  FA0224114|            CA|  90041-2618|  EE0000162|OW0033830|      SPROUTS, INC.|FOOD MKT RETAIL (...|              1612|         MEAT MARKET|        ACTIVE|PR0179289|   97|           1| ROUTINE INSPECTION|DA0GBKW3FF037|\n",
      "|    DA0HEAJNR|2018-03-30T00:00:...|LOS ANGELES NEW Y...|          F044| # 44. Floors, wal...|OUT OF COMPLIANCE|     1|    A|       518 W 6TH ST|  LOS ANGELES|  FA0022748|            CA|       90014|  EE0000721|OW0017480|JAYSUKHGHQI T PATEL|RESTAURANT (31-60...|              1634|LOS ANGELES NEW Y...|        ACTIVE|PR0031535|   92|           1| ROUTINE INSPECTION|DA0HEAJNRF044|\n",
      "|    DA0HEAJNR|2018-03-30T00:00:...|LOS ANGELES NEW Y...|          F033| # 33. Nonfood-con...|OUT OF COMPLIANCE|     1|    A|       518 W 6TH ST|  LOS ANGELES|  FA0022748|            CA|       90014|  EE0000721|OW0017480|JAYSUKHGHQI T PATEL|RESTAURANT (31-60...|              1634|LOS ANGELES NEW Y...|        ACTIVE|PR0031535|   92|           1| ROUTINE INSPECTION|DA0HEAJNRF033|\n",
      "|    DA0HEAJNR|2018-03-30T00:00:...|LOS ANGELES NEW Y...|          F032| # 32. Food proper...|OUT OF COMPLIANCE|     1|    A|       518 W 6TH ST|  LOS ANGELES|  FA0022748|            CA|       90014|  EE0000721|OW0017480|JAYSUKHGHQI T PATEL|RESTAURANT (31-60...|              1634|LOS ANGELES NEW Y...|        ACTIVE|PR0031535|   92|           1| ROUTINE INSPECTION|DA0HEAJNRF032|\n",
      "|    DA0HEAJNR|2018-03-30T00:00:...|LOS ANGELES NEW Y...|          F034| # 34. Warewashing...|OUT OF COMPLIANCE|     1|    A|       518 W 6TH ST|  LOS ANGELES|  FA0022748|            CA|       90014|  EE0000721|OW0017480|JAYSUKHGHQI T PATEL|RESTAURANT (31-60...|              1634|LOS ANGELES NEW Y...|        ACTIVE|PR0031535|   92|           1| ROUTINE INSPECTION|DA0HEAJNRF034|\n",
      "|    DA0HEAJNR|2018-03-30T00:00:...|LOS ANGELES NEW Y...|          F014| # 14. Food contac...|OUT OF COMPLIANCE|     4|    A|       518 W 6TH ST|  LOS ANGELES|  FA0022748|            CA|       90014|  EE0000721|OW0017480|JAYSUKHGHQI T PATEL|RESTAURANT (31-60...|              1634|LOS ANGELES NEW Y...|        ACTIVE|PR0031535|   92|           1| ROUTINE INSPECTION|DA0HEAJNRF014|\n",
      "|    DA0RZDWLN|2018-03-30T00:00:...|   THE BAGEL FACTORY|          F029| # 29. Toxic subst...|OUT OF COMPLIANCE|     1|    A|  8984 CADILLAC AVE|  LOS ANGELES|  FA0051619|            CA|       90034|  EE0000727|OW0031653|     SANFORD, BRODY|RESTAURANT (0-30)...|              1631|   THE BAGEL FACTORY|        ACTIVE|PR0037137|   93|           1| ROUTINE INSPECTION|DA0RZDWLNF029|\n",
      "|    DA0RZDWLN|2018-03-30T00:00:...|   THE BAGEL FACTORY|          F043| # 43. Premises; p...|OUT OF COMPLIANCE|     1|    A|  8984 CADILLAC AVE|  LOS ANGELES|  FA0051619|            CA|       90034|  EE0000727|OW0031653|     SANFORD, BRODY|RESTAURANT (0-30)...|              1631|   THE BAGEL FACTORY|        ACTIVE|PR0037137|   93|           1| ROUTINE INSPECTION|DA0RZDWLNF043|\n",
      "|    DA0RZDWLN|2018-03-30T00:00:...|   THE BAGEL FACTORY|          F030| # 30. Food proper...|OUT OF COMPLIANCE|     1|    A|  8984 CADILLAC AVE|  LOS ANGELES|  FA0051619|            CA|       90034|  EE0000727|OW0031653|     SANFORD, BRODY|RESTAURANT (0-30)...|              1631|   THE BAGEL FACTORY|        ACTIVE|PR0037137|   93|           1| ROUTINE INSPECTION|DA0RZDWLNF030|\n",
      "|    DA0RZDWLN|2018-03-30T00:00:...|   THE BAGEL FACTORY|          F037| # 37. Adequate ve...|OUT OF COMPLIANCE|     1|    A|  8984 CADILLAC AVE|  LOS ANGELES|  FA0051619|            CA|       90034|  EE0000727|OW0031653|     SANFORD, BRODY|RESTAURANT (0-30)...|              1631|   THE BAGEL FACTORY|        ACTIVE|PR0037137|   93|           1| ROUTINE INSPECTION|DA0RZDWLNF037|\n",
      "|    DA0RZDWLN|2018-03-30T00:00:...|   THE BAGEL FACTORY|          F035| # 35. Equipment/U...|OUT OF COMPLIANCE|     1|    A|  8984 CADILLAC AVE|  LOS ANGELES|  FA0051619|            CA|       90034|  EE0000727|OW0031653|     SANFORD, BRODY|RESTAURANT (0-30)...|              1631|   THE BAGEL FACTORY|        ACTIVE|PR0037137|   93|           1| ROUTINE INSPECTION|DA0RZDWLNF035|\n",
      "+-------------+--------------------+--------------------+--------------+---------------------+-----------------+------+-----+-------------------+-------------+-----------+--------------+------------+-----------+---------+-------------------+--------------------+------------------+--------------------+--------------+---------+-----+------------+-------------------+-------------+\n",
      "only showing top 20 rows\n",
      "\n",
      "root\n",
      " |-- serial_number: string (nullable = true)\n",
      " |-- activity_date: string (nullable = true)\n",
      " |-- facility_name: string (nullable = true)\n",
      " |-- violation_code: string (nullable = true)\n",
      " |-- violation_description: string (nullable = true)\n",
      " |-- violation_status: string (nullable = true)\n",
      " |-- points: string (nullable = true)\n",
      " |-- grade: string (nullable = true)\n",
      " |-- facility_address: string (nullable = true)\n",
      " |-- facility_city: string (nullable = true)\n",
      " |-- facility_id: string (nullable = true)\n",
      " |-- facility_state: string (nullable = true)\n",
      " |-- facility_zip: string (nullable = true)\n",
      " |-- employee_id: string (nullable = true)\n",
      " |-- owner_id: string (nullable = true)\n",
      " |-- owner_name: string (nullable = true)\n",
      " |-- pe_description: string (nullable = true)\n",
      " |-- program_element_pe: string (nullable = true)\n",
      " |-- program_name: string (nullable = true)\n",
      " |-- program_status: string (nullable = true)\n",
      " |-- record_id: string (nullable = true)\n",
      " |-- score: string (nullable = true)\n",
      " |-- service_code: string (nullable = true)\n",
      " |-- service_description: string (nullable = true)\n",
      " |-- row_id: string (nullable = true)\n",
      "\n"
     ]
    }
   ],
   "source": [
    "df_violation = spark.read.csv(\"./la-restaurant-market-health-data/restaurant-and-market-health-violations.csv\",\n",
    "                             header=True)\n",
    "df_violation.show()\n",
    "df_violation.printSchema()"
   ]
  },
  {
   "cell_type": "code",
   "execution_count": 3,
   "metadata": {},
   "outputs": [
    {
     "ename": "IllegalArgumentException",
     "evalue": "u'Unsupported class file major version 55'",
     "output_type": "error",
     "traceback": [
      "\u001b[0;31m---------------------------------------------------------------------------\u001b[0m",
      "\u001b[0;31mIllegalArgumentException\u001b[0m                  Traceback (most recent call last)",
      "\u001b[0;32m<ipython-input-3-0961e2562e0a>\u001b[0m in \u001b[0;36m<module>\u001b[0;34m()\u001b[0m\n\u001b[1;32m      2\u001b[0m \u001b[0;34m\u001b[0m\u001b[0m\n\u001b[1;32m      3\u001b[0m \u001b[0mrdd\u001b[0m \u001b[0;34m=\u001b[0m \u001b[0mdf_inspection\u001b[0m\u001b[0;34m.\u001b[0m\u001b[0mrdd\u001b[0m\u001b[0;34m.\u001b[0m\u001b[0mmap\u001b[0m\u001b[0;34m(\u001b[0m\u001b[0mtuple\u001b[0m\u001b[0;34m)\u001b[0m\u001b[0;34m\u001b[0m\u001b[0m\n\u001b[0;32m----> 4\u001b[0;31m \u001b[0mcount\u001b[0m \u001b[0;34m=\u001b[0m \u001b[0mrdd\u001b[0m\u001b[0;34m.\u001b[0m\u001b[0mcount\u001b[0m\u001b[0;34m(\u001b[0m\u001b[0;34m)\u001b[0m\u001b[0;34m\u001b[0m\u001b[0m\n\u001b[0m\u001b[1;32m      5\u001b[0m \u001b[0mq1\u001b[0m \u001b[0;34m=\u001b[0m \u001b[0mrdd\u001b[0m\u001b[0;34m.\u001b[0m\u001b[0mmap\u001b[0m\u001b[0;34m(\u001b[0m\u001b[0;32mlambda\u001b[0m \u001b[0mx\u001b[0m\u001b[0;34m:\u001b[0m\u001b[0mx\u001b[0m\u001b[0;34m[\u001b[0m\u001b[0;36m2\u001b[0m\u001b[0;34m]\u001b[0m\u001b[0;34m)\u001b[0m\u001b[0;34m.\u001b[0m\u001b[0mdistinct\u001b[0m\u001b[0;34m(\u001b[0m\u001b[0;34m)\u001b[0m\u001b[0;34m.\u001b[0m\u001b[0mcount\u001b[0m\u001b[0;34m(\u001b[0m\u001b[0;34m)\u001b[0m\u001b[0;34m\u001b[0m\u001b[0m\n\u001b[1;32m      6\u001b[0m \u001b[0mq2\u001b[0m \u001b[0;34m=\u001b[0m \u001b[0mrdd\u001b[0m\u001b[0;34m.\u001b[0m\u001b[0mmap\u001b[0m\u001b[0;34m(\u001b[0m\u001b[0;32mlambda\u001b[0m \u001b[0mx\u001b[0m\u001b[0;34m:\u001b[0m\u001b[0mx\u001b[0m\u001b[0;34m[\u001b[0m\u001b[0;36m3\u001b[0m\u001b[0;34m]\u001b[0m\u001b[0;34m)\u001b[0m\u001b[0;34m.\u001b[0m\u001b[0mmap\u001b[0m\u001b[0;34m(\u001b[0m\u001b[0;32mlambda\u001b[0m \u001b[0mx\u001b[0m\u001b[0;34m:\u001b[0m\u001b[0;34m(\u001b[0m\u001b[0;36m9\u001b[0m \u001b[0;32mif\u001b[0m \u001b[0mint\u001b[0m\u001b[0;34m(\u001b[0m\u001b[0mx\u001b[0m\u001b[0;34m)\u001b[0m\u001b[0;34m>\u001b[0m\u001b[0;36m99\u001b[0m \u001b[0;32melse\u001b[0m \u001b[0mint\u001b[0m\u001b[0;34m(\u001b[0m\u001b[0mx\u001b[0m\u001b[0;34m)\u001b[0m\u001b[0;34m/\u001b[0m\u001b[0;36m10\u001b[0m\u001b[0;34m,\u001b[0m\u001b[0;36m1\u001b[0m\u001b[0;34m)\u001b[0m\u001b[0;34m)\u001b[0m\u001b[0;34m.\u001b[0m\u001b[0mreduceByKey\u001b[0m\u001b[0;34m(\u001b[0m\u001b[0madd\u001b[0m\u001b[0;34m)\u001b[0m     \u001b[0;34m.\u001b[0m\u001b[0msortByKey\u001b[0m\u001b[0;34m(\u001b[0m\u001b[0;34m)\u001b[0m\u001b[0;34m.\u001b[0m\u001b[0mmap\u001b[0m\u001b[0;34m(\u001b[0m\u001b[0;32mlambda\u001b[0m \u001b[0mx\u001b[0m\u001b[0;34m:\u001b[0m \u001b[0;34m'[90,100]:%d'\u001b[0m \u001b[0;34m%\u001b[0m \u001b[0mx\u001b[0m\u001b[0;34m[\u001b[0m\u001b[0;36m1\u001b[0m\u001b[0;34m]\u001b[0m \u001b[0;32mif\u001b[0m \u001b[0mx\u001b[0m\u001b[0;34m[\u001b[0m\u001b[0;36m0\u001b[0m\u001b[0;34m]\u001b[0m\u001b[0;34m>=\u001b[0m\u001b[0;36m9\u001b[0m \u001b[0;32melse\u001b[0m \u001b[0;34m'[%d,%d]:%d'\u001b[0m \u001b[0;34m%\u001b[0m \u001b[0;34m(\u001b[0m\u001b[0mx\u001b[0m\u001b[0;34m[\u001b[0m\u001b[0;36m0\u001b[0m\u001b[0;34m]\u001b[0m\u001b[0;34m,\u001b[0m \u001b[0mx\u001b[0m\u001b[0;34m[\u001b[0m\u001b[0;36m0\u001b[0m\u001b[0;34m]\u001b[0m\u001b[0;34m+\u001b[0m\u001b[0;36m9\u001b[0m\u001b[0;34m,\u001b[0m \u001b[0mx\u001b[0m\u001b[0;34m[\u001b[0m\u001b[0;36m1\u001b[0m\u001b[0;34m]\u001b[0m\u001b[0;34m)\u001b[0m\u001b[0;34m)\u001b[0m\u001b[0;34m.\u001b[0m\u001b[0mcollect\u001b[0m\u001b[0;34m(\u001b[0m\u001b[0;34m)\u001b[0m\u001b[0;34m\u001b[0m\u001b[0m\n",
      "\u001b[0;32m/usr/local/lib/python2.7/site-packages/pyspark/rdd.pyc\u001b[0m in \u001b[0;36mcount\u001b[0;34m(self)\u001b[0m\n\u001b[1;32m   1053\u001b[0m         \u001b[0;36m3\u001b[0m\u001b[0;34m\u001b[0m\u001b[0m\n\u001b[1;32m   1054\u001b[0m         \"\"\"\n\u001b[0;32m-> 1055\u001b[0;31m         \u001b[0;32mreturn\u001b[0m \u001b[0mself\u001b[0m\u001b[0;34m.\u001b[0m\u001b[0mmapPartitions\u001b[0m\u001b[0;34m(\u001b[0m\u001b[0;32mlambda\u001b[0m \u001b[0mi\u001b[0m\u001b[0;34m:\u001b[0m \u001b[0;34m[\u001b[0m\u001b[0msum\u001b[0m\u001b[0;34m(\u001b[0m\u001b[0;36m1\u001b[0m \u001b[0;32mfor\u001b[0m \u001b[0m_\u001b[0m \u001b[0;32min\u001b[0m \u001b[0mi\u001b[0m\u001b[0;34m)\u001b[0m\u001b[0;34m]\u001b[0m\u001b[0;34m)\u001b[0m\u001b[0;34m.\u001b[0m\u001b[0msum\u001b[0m\u001b[0;34m(\u001b[0m\u001b[0;34m)\u001b[0m\u001b[0;34m\u001b[0m\u001b[0m\n\u001b[0m\u001b[1;32m   1056\u001b[0m \u001b[0;34m\u001b[0m\u001b[0m\n\u001b[1;32m   1057\u001b[0m     \u001b[0;32mdef\u001b[0m \u001b[0mstats\u001b[0m\u001b[0;34m(\u001b[0m\u001b[0mself\u001b[0m\u001b[0;34m)\u001b[0m\u001b[0;34m:\u001b[0m\u001b[0;34m\u001b[0m\u001b[0m\n",
      "\u001b[0;32m/usr/local/lib/python2.7/site-packages/pyspark/rdd.pyc\u001b[0m in \u001b[0;36msum\u001b[0;34m(self)\u001b[0m\n\u001b[1;32m   1044\u001b[0m         \u001b[0;36m6.0\u001b[0m\u001b[0;34m\u001b[0m\u001b[0m\n\u001b[1;32m   1045\u001b[0m         \"\"\"\n\u001b[0;32m-> 1046\u001b[0;31m         \u001b[0;32mreturn\u001b[0m \u001b[0mself\u001b[0m\u001b[0;34m.\u001b[0m\u001b[0mmapPartitions\u001b[0m\u001b[0;34m(\u001b[0m\u001b[0;32mlambda\u001b[0m \u001b[0mx\u001b[0m\u001b[0;34m:\u001b[0m \u001b[0;34m[\u001b[0m\u001b[0msum\u001b[0m\u001b[0;34m(\u001b[0m\u001b[0mx\u001b[0m\u001b[0;34m)\u001b[0m\u001b[0;34m]\u001b[0m\u001b[0;34m)\u001b[0m\u001b[0;34m.\u001b[0m\u001b[0mfold\u001b[0m\u001b[0;34m(\u001b[0m\u001b[0;36m0\u001b[0m\u001b[0;34m,\u001b[0m \u001b[0moperator\u001b[0m\u001b[0;34m.\u001b[0m\u001b[0madd\u001b[0m\u001b[0;34m)\u001b[0m\u001b[0;34m\u001b[0m\u001b[0m\n\u001b[0m\u001b[1;32m   1047\u001b[0m \u001b[0;34m\u001b[0m\u001b[0m\n\u001b[1;32m   1048\u001b[0m     \u001b[0;32mdef\u001b[0m \u001b[0mcount\u001b[0m\u001b[0;34m(\u001b[0m\u001b[0mself\u001b[0m\u001b[0;34m)\u001b[0m\u001b[0;34m:\u001b[0m\u001b[0;34m\u001b[0m\u001b[0m\n",
      "\u001b[0;32m/usr/local/lib/python2.7/site-packages/pyspark/rdd.pyc\u001b[0m in \u001b[0;36mfold\u001b[0;34m(self, zeroValue, op)\u001b[0m\n\u001b[1;32m    915\u001b[0m         \u001b[0;31m# zeroValue provided to each partition is unique from the one provided\u001b[0m\u001b[0;34m\u001b[0m\u001b[0;34m\u001b[0m\u001b[0m\n\u001b[1;32m    916\u001b[0m         \u001b[0;31m# to the final reduce call\u001b[0m\u001b[0;34m\u001b[0m\u001b[0;34m\u001b[0m\u001b[0m\n\u001b[0;32m--> 917\u001b[0;31m         \u001b[0mvals\u001b[0m \u001b[0;34m=\u001b[0m \u001b[0mself\u001b[0m\u001b[0;34m.\u001b[0m\u001b[0mmapPartitions\u001b[0m\u001b[0;34m(\u001b[0m\u001b[0mfunc\u001b[0m\u001b[0;34m)\u001b[0m\u001b[0;34m.\u001b[0m\u001b[0mcollect\u001b[0m\u001b[0;34m(\u001b[0m\u001b[0;34m)\u001b[0m\u001b[0;34m\u001b[0m\u001b[0m\n\u001b[0m\u001b[1;32m    918\u001b[0m         \u001b[0;32mreturn\u001b[0m \u001b[0mreduce\u001b[0m\u001b[0;34m(\u001b[0m\u001b[0mop\u001b[0m\u001b[0;34m,\u001b[0m \u001b[0mvals\u001b[0m\u001b[0;34m,\u001b[0m \u001b[0mzeroValue\u001b[0m\u001b[0;34m)\u001b[0m\u001b[0;34m\u001b[0m\u001b[0m\n\u001b[1;32m    919\u001b[0m \u001b[0;34m\u001b[0m\u001b[0m\n",
      "\u001b[0;32m/usr/local/lib/python2.7/site-packages/pyspark/rdd.pyc\u001b[0m in \u001b[0;36mcollect\u001b[0;34m(self)\u001b[0m\n\u001b[1;32m    814\u001b[0m         \"\"\"\n\u001b[1;32m    815\u001b[0m         \u001b[0;32mwith\u001b[0m \u001b[0mSCCallSiteSync\u001b[0m\u001b[0;34m(\u001b[0m\u001b[0mself\u001b[0m\u001b[0;34m.\u001b[0m\u001b[0mcontext\u001b[0m\u001b[0;34m)\u001b[0m \u001b[0;32mas\u001b[0m \u001b[0mcss\u001b[0m\u001b[0;34m:\u001b[0m\u001b[0;34m\u001b[0m\u001b[0m\n\u001b[0;32m--> 816\u001b[0;31m             \u001b[0msock_info\u001b[0m \u001b[0;34m=\u001b[0m \u001b[0mself\u001b[0m\u001b[0;34m.\u001b[0m\u001b[0mctx\u001b[0m\u001b[0;34m.\u001b[0m\u001b[0m_jvm\u001b[0m\u001b[0;34m.\u001b[0m\u001b[0mPythonRDD\u001b[0m\u001b[0;34m.\u001b[0m\u001b[0mcollectAndServe\u001b[0m\u001b[0;34m(\u001b[0m\u001b[0mself\u001b[0m\u001b[0;34m.\u001b[0m\u001b[0m_jrdd\u001b[0m\u001b[0;34m.\u001b[0m\u001b[0mrdd\u001b[0m\u001b[0;34m(\u001b[0m\u001b[0;34m)\u001b[0m\u001b[0;34m)\u001b[0m\u001b[0;34m\u001b[0m\u001b[0m\n\u001b[0m\u001b[1;32m    817\u001b[0m         \u001b[0;32mreturn\u001b[0m \u001b[0mlist\u001b[0m\u001b[0;34m(\u001b[0m\u001b[0m_load_from_socket\u001b[0m\u001b[0;34m(\u001b[0m\u001b[0msock_info\u001b[0m\u001b[0;34m,\u001b[0m \u001b[0mself\u001b[0m\u001b[0;34m.\u001b[0m\u001b[0m_jrdd_deserializer\u001b[0m\u001b[0;34m)\u001b[0m\u001b[0;34m)\u001b[0m\u001b[0;34m\u001b[0m\u001b[0m\n\u001b[1;32m    818\u001b[0m \u001b[0;34m\u001b[0m\u001b[0m\n",
      "\u001b[0;32m/usr/local/lib/python2.7/site-packages/py4j/java_gateway.pyc\u001b[0m in \u001b[0;36m__call__\u001b[0;34m(self, *args)\u001b[0m\n\u001b[1;32m   1255\u001b[0m         \u001b[0manswer\u001b[0m \u001b[0;34m=\u001b[0m \u001b[0mself\u001b[0m\u001b[0;34m.\u001b[0m\u001b[0mgateway_client\u001b[0m\u001b[0;34m.\u001b[0m\u001b[0msend_command\u001b[0m\u001b[0;34m(\u001b[0m\u001b[0mcommand\u001b[0m\u001b[0;34m)\u001b[0m\u001b[0;34m\u001b[0m\u001b[0m\n\u001b[1;32m   1256\u001b[0m         return_value = get_return_value(\n\u001b[0;32m-> 1257\u001b[0;31m             answer, self.gateway_client, self.target_id, self.name)\n\u001b[0m\u001b[1;32m   1258\u001b[0m \u001b[0;34m\u001b[0m\u001b[0m\n\u001b[1;32m   1259\u001b[0m         \u001b[0;32mfor\u001b[0m \u001b[0mtemp_arg\u001b[0m \u001b[0;32min\u001b[0m \u001b[0mtemp_args\u001b[0m\u001b[0;34m:\u001b[0m\u001b[0;34m\u001b[0m\u001b[0m\n",
      "\u001b[0;32m/usr/local/lib/python2.7/site-packages/pyspark/sql/utils.pyc\u001b[0m in \u001b[0;36mdeco\u001b[0;34m(*a, **kw)\u001b[0m\n\u001b[1;32m     77\u001b[0m                 \u001b[0;32mraise\u001b[0m \u001b[0mQueryExecutionException\u001b[0m\u001b[0;34m(\u001b[0m\u001b[0ms\u001b[0m\u001b[0;34m.\u001b[0m\u001b[0msplit\u001b[0m\u001b[0;34m(\u001b[0m\u001b[0;34m': '\u001b[0m\u001b[0;34m,\u001b[0m \u001b[0;36m1\u001b[0m\u001b[0;34m)\u001b[0m\u001b[0;34m[\u001b[0m\u001b[0;36m1\u001b[0m\u001b[0;34m]\u001b[0m\u001b[0;34m,\u001b[0m \u001b[0mstackTrace\u001b[0m\u001b[0;34m)\u001b[0m\u001b[0;34m\u001b[0m\u001b[0m\n\u001b[1;32m     78\u001b[0m             \u001b[0;32mif\u001b[0m \u001b[0ms\u001b[0m\u001b[0;34m.\u001b[0m\u001b[0mstartswith\u001b[0m\u001b[0;34m(\u001b[0m\u001b[0;34m'java.lang.IllegalArgumentException: '\u001b[0m\u001b[0;34m)\u001b[0m\u001b[0;34m:\u001b[0m\u001b[0;34m\u001b[0m\u001b[0m\n\u001b[0;32m---> 79\u001b[0;31m                 \u001b[0;32mraise\u001b[0m \u001b[0mIllegalArgumentException\u001b[0m\u001b[0;34m(\u001b[0m\u001b[0ms\u001b[0m\u001b[0;34m.\u001b[0m\u001b[0msplit\u001b[0m\u001b[0;34m(\u001b[0m\u001b[0;34m': '\u001b[0m\u001b[0;34m,\u001b[0m \u001b[0;36m1\u001b[0m\u001b[0;34m)\u001b[0m\u001b[0;34m[\u001b[0m\u001b[0;36m1\u001b[0m\u001b[0;34m]\u001b[0m\u001b[0;34m,\u001b[0m \u001b[0mstackTrace\u001b[0m\u001b[0;34m)\u001b[0m\u001b[0;34m\u001b[0m\u001b[0m\n\u001b[0m\u001b[1;32m     80\u001b[0m             \u001b[0;32mraise\u001b[0m\u001b[0;34m\u001b[0m\u001b[0m\n\u001b[1;32m     81\u001b[0m     \u001b[0;32mreturn\u001b[0m \u001b[0mdeco\u001b[0m\u001b[0;34m\u001b[0m\u001b[0m\n",
      "\u001b[0;31mIllegalArgumentException\u001b[0m: u'Unsupported class file major version 55'"
     ]
    }
   ],
   "source": [
    "from operator import add\n",
    "\n",
    "rdd = df_inspection.rdd.map(tuple)\n",
    "count = rdd.count()\n",
    "q1 = rdd.map(lambda x:x[2]).distinct().count()\n",
    "q2 = rdd.map(lambda x:x[3]).map(lambda x:(9 if int(x)>99 else int(x)/10,1)).reduceByKey(add) \\\n",
    "    .sortByKey().map(lambda x: '[90,100]:%d' % x[1] if x[0]>=9 else '[%d,%d]:%d' % (x[0], x[0]+9, x[1])).collect()\n",
    "q3 = rdd.map(lambda x:x[3]).map(lambda x:(9 if int(x)>99 else int(x)/10,1)).reduceByKey(add) \\\n",
    "    .sortByKey(ascending=False).map(lambda x: 'A:%f' % (x[1]*100.0/count) if x[0]>=9 else '%c:%f' % (chr(ord('A')+9-x[0]), x[1]*100.0/count)).collect()\n",
    "q4 = rdd.map(lambda x:x[10]).distinct().subtract(df_violation.rdd.map(lambda x:x[10]).distinct()).count()\n",
    "answer = {}\n",
    "answer['count'] = count\n",
    "answer['a1'] = q1\n",
    "answer['a2'] = '\\n'.join(q2)\n",
    "answer['a3'] = '\\n'.join(q3)\n",
    "answer['a4'] = q4\n",
    "answer"
   ]
  },
  {
   "cell_type": "code",
   "execution_count": null,
   "metadata": {},
   "outputs": [],
   "source": []
  }
 ],
 "metadata": {
  "kernelspec": {
   "display_name": "Python 2",
   "language": "python",
   "name": "python2"
  },
  "language_info": {
   "codemirror_mode": {
    "name": "ipython",
    "version": 2
   },
   "file_extension": ".py",
   "mimetype": "text/x-python",
   "name": "python",
   "nbconvert_exporter": "python",
   "pygments_lexer": "ipython2",
   "version": "2.7.16"
  }
 },
 "nbformat": 4,
 "nbformat_minor": 2
}
